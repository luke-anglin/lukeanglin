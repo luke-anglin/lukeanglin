{
 "cells": [
  {
   "cell_type": "markdown",
   "metadata": {},
   "source": [
    "Let's import Keras, as well as change our backend to plaidml to use the internal GPU on my Macbook. "
   ]
  },
  {
   "cell_type": "code",
   "execution_count": 1,
   "metadata": {},
   "outputs": [
    {
     "name": "stderr",
     "output_type": "stream",
     "text": [
      "Using TensorFlow backend.\n"
     ]
    }
   ],
   "source": [
    "import os\n",
    "import keras  \n",
    "import numpy as np \n",
    "os.environ[\"KERAS_BACKEND\"] = \"plaidml.keras.backend\""
   ]
  },
  {
   "cell_type": "markdown",
   "metadata": {},
   "source": [
    "# Loading the Data "
   ]
  },
  {
   "cell_type": "markdown",
   "metadata": {},
   "source": [
    "Note:  If you get strange errors, a total \"Restart Kernel and Run All\" may work wonders. "
   ]
  },
  {
   "cell_type": "code",
   "execution_count": 2,
   "metadata": {},
   "outputs": [],
   "source": [
    "from keras.datasets import imdb\n",
    "load_old = np.load\n",
    "np.load = lambda *a,**kw: load_old(*a,allow_pickle=True,**kw)\n",
    "\n",
    "\n",
    "(train_data, train_labels), (test_data, test_labels) = imdb.load_data(num_words=10000)"
   ]
  },
  {
   "cell_type": "markdown",
   "metadata": {},
   "source": [
    "Let's take a look at the first sample of the training data. "
   ]
  },
  {
   "cell_type": "code",
   "execution_count": 45,
   "metadata": {},
   "outputs": [],
   "source": [
    "# train_data[0]"
   ]
  },
  {
   "cell_type": "markdown",
   "metadata": {},
   "source": [
    "# Background"
   ]
  },
  {
   "cell_type": "markdown",
   "metadata": {},
   "source": [
    "The `train_data` and `test_data` are lists of reviews, with words encoded as integers mapping to words in a dictionary.  This is **binary classification** - the labels are 0 for *negative* reviews and 1 for *positive* reviews. "
   ]
  },
  {
   "cell_type": "markdown",
   "metadata": {},
   "source": [
    "# Preparation"
   ]
  },
  {
   "cell_type": "markdown",
   "metadata": {},
   "source": [
    "We have lists of integers, and we can't feed these to the neural network.  They have different lengths, and that's just not going to work.  We have to choices. \n",
    "\n",
    "1. Pad our lists to all have the same length\n",
    "2. One hot encode to change sequences of word indices - say [1, 5, 3] - into 1s and 0s. \n",
    "\n",
    "We will take the One Hot Encoding approach in this walkthrough. "
   ]
  },
  {
   "cell_type": "markdown",
   "metadata": {},
   "source": [
    "Let's do it manually, so we understand exactly what's going on here. "
   ]
  },
  {
   "cell_type": "code",
   "execution_count": 4,
   "metadata": {},
   "outputs": [],
   "source": [
    "import numpy as np\n",
    "\n",
    "# Define a function to encode/vectorize - one hot encoding. \n",
    "\n",
    "\n",
    "def vectorize_sequences(sequences, dimension=10000):\n",
    "    # Initialize the results equal to a matrix of all zeroes, with the rows being the amount of word_indices provided and the columns being the dimensions, or the samples\n",
    "    results = np.zeros((len(sequences), dimension))\n",
    "    # Set the indices which have words at them equal to 1\n",
    "    for i, sequence in enumerate(sequences):\n",
    "        results[i, sequence] = 1\n",
    "    return results\n",
    "\n",
    "x_train = vectorize_sequences(train_data)\n",
    "x_test = vectorize_sequences(test_data)"
   ]
  },
  {
   "cell_type": "markdown",
   "metadata": {},
   "source": [
    "Let's take a look at one sample. "
   ]
  },
  {
   "cell_type": "code",
   "execution_count": 5,
   "metadata": {},
   "outputs": [
    {
     "data": {
      "text/plain": [
       "array([0., 1., 1., ..., 0., 0., 0.])"
      ]
     },
     "execution_count": 5,
     "metadata": {},
     "output_type": "execute_result"
    }
   ],
   "source": [
    "x_train[0]"
   ]
  },
  {
   "cell_type": "markdown",
   "metadata": {},
   "source": [
    "As we can see, we are now representing word indices from the most common 10,000 words as ones and zeroes."
   ]
  },
  {
   "cell_type": "markdown",
   "metadata": {},
   "source": [
    "Let's also vectorize the labels. "
   ]
  },
  {
   "cell_type": "code",
   "execution_count": 6,
   "metadata": {},
   "outputs": [],
   "source": [
    "y_train = np.asarray(train_labels).astype('float32')\n",
    "y_test = np.asarray(test_labels).astype('float32')"
   ]
  },
  {
   "cell_type": "markdown",
   "metadata": {},
   "source": [
    "# Sculpt"
   ]
  },
  {
   "cell_type": "markdown",
   "metadata": {},
   "source": [
    "Our input data is vectors and our labels scalars.  For this type of network, we can use a simple `Dense` setup with `relu` activations. "
   ]
  },
  {
   "cell_type": "code",
   "execution_count": 9,
   "metadata": {},
   "outputs": [],
   "source": [
    "from tensorflow.keras import layers \n",
    "from tensorflow.keras import models \n",
    "\n",
    "# Construct the model\n",
    "model = models.Sequential()\n",
    "model.add(layers.Dense(16, activation='relu', input_shape=(10000,)))\n",
    "model.add(layers.Dense(16, activation='relu'))\n",
    "model.add(layers.Dense(1, activation='sigmoid'))"
   ]
  },
  {
   "cell_type": "markdown",
   "metadata": {},
   "source": [
    "# Compile"
   ]
  },
  {
   "cell_type": "markdown",
   "metadata": {},
   "source": [
    "We will use the `binary_crossentropy` loss function.  Let's break that down.  \n",
    "* Binary - one of two outcomes, and this problem has been broken into a binary classfication \n",
    "* Crossentropy - measures the distance between probability distributions and predictions"
   ]
  },
  {
   "cell_type": "markdown",
   "metadata": {},
   "source": [
    "We will also use `rmsprops` as our optimizer.  Generally, you can be safe with this one.  It does the following: \n",
    "* Balances step size and momentum \n",
    "* Avoids exploding with large gradients\n",
    "* Avoids vanishing with small gradients "
   ]
  },
  {
   "cell_type": "code",
   "execution_count": 10,
   "metadata": {},
   "outputs": [],
   "source": [
    "model.compile(optimizer='rmsprop', loss='binary_crossentropy',\n",
    "              metrics=['accuracy'])"
   ]
  },
  {
   "cell_type": "markdown",
   "metadata": {},
   "source": [
    "If we wanted to **configure certain parameters** for our parameters, such as a different learning rate for our optimizer, we can **construct class instances** and pass the parameters of interest to the constructor. "
   ]
  },
  {
   "cell_type": "code",
   "execution_count": 16,
   "metadata": {},
   "outputs": [],
   "source": [
    "from tensorflow.keras import optimizers\n",
    "from tensorflow.keras import losses \n",
    "from tensorflow.keras import metrics \n",
    "\n",
    "model.compile(optimizer=optimizers.RMSprop(learning_rate = 0.001),\n",
    "              loss=losses.binary_crossentropy, metrics = [metrics.binary_accuracy])"
   ]
  },
  {
   "cell_type": "markdown",
   "metadata": {},
   "source": [
    "# Validate"
   ]
  },
  {
   "cell_type": "markdown",
   "metadata": {},
   "source": [
    "Let's create a validation set as our model has never seen this data before"
   ]
  },
  {
   "cell_type": "code",
   "execution_count": 18,
   "metadata": {},
   "outputs": [],
   "source": [
    "x_val = x_train[:10000]\n",
    "partial_x_train = x_train[10000:]\n",
    "y_val = y_train[:10000]\n",
    "partial_y_train = y_train[10000:]"
   ]
  },
  {
   "cell_type": "markdown",
   "metadata": {},
   "source": [
    "# Train!"
   ]
  },
  {
   "cell_type": "markdown",
   "metadata": {},
   "source": [
    "Let's train the data!  Remove the semi-colon to see it in action. "
   ]
  },
  {
   "cell_type": "code",
   "execution_count": 20,
   "metadata": {},
   "outputs": [
    {
     "name": "stdout",
     "output_type": "stream",
     "text": [
      "Epoch 1/20\n",
      "30/30 [==============================] - 1s 31ms/step - loss: 0.0052 - binary_accuracy: 0.9990 - val_loss: 0.7537 - val_binary_accuracy: 0.8636\n",
      "Epoch 2/20\n",
      "30/30 [==============================] - 0s 12ms/step - loss: 0.0018 - binary_accuracy: 0.9999 - val_loss: 0.8685 - val_binary_accuracy: 0.8550\n",
      "Epoch 3/20\n",
      "30/30 [==============================] - 0s 12ms/step - loss: 0.0063 - binary_accuracy: 0.9982 - val_loss: 0.8317 - val_binary_accuracy: 0.8621\n",
      "Epoch 4/20\n",
      "30/30 [==============================] - 0s 12ms/step - loss: 0.0011 - binary_accuracy: 0.9999 - val_loss: 0.8610 - val_binary_accuracy: 0.8612\n",
      "Epoch 5/20\n",
      "30/30 [==============================] - 0s 12ms/step - loss: 0.0051 - binary_accuracy: 0.9985 - val_loss: 0.9045 - val_binary_accuracy: 0.8613\n",
      "Epoch 6/20\n",
      "30/30 [==============================] - 0s 12ms/step - loss: 7.3215e-04 - binary_accuracy: 0.9999 - val_loss: 0.9046 - val_binary_accuracy: 0.8615\n",
      "Epoch 7/20\n",
      "30/30 [==============================] - 0s 13ms/step - loss: 6.1259e-04 - binary_accuracy: 0.9999 - val_loss: 0.9394 - val_binary_accuracy: 0.8614\n",
      "Epoch 8/20\n",
      "30/30 [==============================] - 0s 12ms/step - loss: 0.0033 - binary_accuracy: 0.9993 - val_loss: 0.9845 - val_binary_accuracy: 0.8597\n",
      "Epoch 9/20\n",
      "30/30 [==============================] - 0s 14ms/step - loss: 3.9315e-04 - binary_accuracy: 0.9999 - val_loss: 1.0001 - val_binary_accuracy: 0.8592\n",
      "Epoch 10/20\n",
      "30/30 [==============================] - 0s 14ms/step - loss: 3.3184e-04 - binary_accuracy: 0.9999 - val_loss: 1.0417 - val_binary_accuracy: 0.8579\n",
      "Epoch 11/20\n",
      "30/30 [==============================] - 0s 13ms/step - loss: 0.0030 - binary_accuracy: 0.9990 - val_loss: 1.1037 - val_binary_accuracy: 0.8584\n",
      "Epoch 12/20\n",
      "30/30 [==============================] - 0s 12ms/step - loss: 2.0107e-04 - binary_accuracy: 0.9999 - val_loss: 1.1103 - val_binary_accuracy: 0.8594\n",
      "Epoch 13/20\n",
      "30/30 [==============================] - 0s 12ms/step - loss: 1.7082e-04 - binary_accuracy: 1.0000 - val_loss: 1.1349 - val_binary_accuracy: 0.8590\n",
      "Epoch 14/20\n",
      "30/30 [==============================] - 0s 13ms/step - loss: 1.3656e-04 - binary_accuracy: 1.0000 - val_loss: 1.1860 - val_binary_accuracy: 0.8582\n",
      "Epoch 15/20\n",
      "30/30 [==============================] - 0s 12ms/step - loss: 0.0031 - binary_accuracy: 0.9993 - val_loss: 1.2418 - val_binary_accuracy: 0.8573\n",
      "Epoch 16/20\n",
      "30/30 [==============================] - 0s 13ms/step - loss: 6.7418e-05 - binary_accuracy: 1.0000 - val_loss: 1.2463 - val_binary_accuracy: 0.8578\n",
      "Epoch 17/20\n",
      "30/30 [==============================] - 0s 13ms/step - loss: 5.8776e-05 - binary_accuracy: 1.0000 - val_loss: 1.2644 - val_binary_accuracy: 0.8568\n",
      "Epoch 18/20\n",
      "30/30 [==============================] - 0s 14ms/step - loss: 4.8522e-05 - binary_accuracy: 1.0000 - val_loss: 1.3034 - val_binary_accuracy: 0.8574\n",
      "Epoch 19/20\n",
      "30/30 [==============================] - 0s 13ms/step - loss: 3.5615e-05 - binary_accuracy: 1.0000 - val_loss: 1.5673 - val_binary_accuracy: 0.8427\n",
      "Epoch 20/20\n",
      "30/30 [==============================] - 0s 13ms/step - loss: 0.0013 - binary_accuracy: 0.9997 - val_loss: 1.3739 - val_binary_accuracy: 0.8571\n"
     ]
    }
   ],
   "source": [
    "history = model.fit(partial_x_train, partial_y_train, epochs=20, batch_size=512, validation_data=(x_val, y_val));"
   ]
  },
  {
   "cell_type": "markdown",
   "metadata": {},
   "source": [
    "This returns a `History` object containing a `history` dictionary.  This dictionary holds everything we need to know about how our training went.  Let's take a look."
   ]
  },
  {
   "cell_type": "markdown",
   "metadata": {},
   "source": [
    "Uncomment the `pprint` function to see the contents of the dictionary"
   ]
  },
  {
   "cell_type": "code",
   "execution_count": 38,
   "metadata": {},
   "outputs": [],
   "source": [
    "from pprint import pprint \n",
    "history_dict = history.history \n",
    "# pprint(history_dict)"
   ]
  },
  {
   "cell_type": "markdown",
   "metadata": {},
   "source": [
    "Let's plot. "
   ]
  },
  {
   "cell_type": "code",
   "execution_count": 36,
   "metadata": {},
   "outputs": [
    {
     "data": {
      "image/png": "[encoded data removed]",
      "text/plain": [
       "<Figure size 432x288 with 1 Axes>"
      ]
     },
     "metadata": {
      "needs_background": "light"
     },
     "output_type": "display_data"
    }
   ],
   "source": [
    "import matplotlib.pyplot as plt \n",
    "\n",
    "history_dict = history.history \n",
    "loss_values = history_dict['loss']\n",
    "val_loss_values = history_dict['val_loss']\n",
    "acc = history_dict['binary_accuracy']\n",
    "# We do this so that our first epoch is epoch 1, not epoch 0\n",
    "epochs = range(1, len(acc) + 1)\n",
    "\n",
    "plt.plot(epochs, loss_values, 'ko', label = 'Training Loss');\n",
    "plt.plot(epochs, val_loss_values, 'r', label = 'Validation Loss');\n",
    "plt.title('Training vs. Validation Loss');\n",
    "plt.xlabel('Epochs');\n",
    "plt.ylabel('Loss');\n",
    "plt.legend();\n",
    "plt.show()"
   ]
  },
  {
   "cell_type": "markdown",
   "metadata": {},
   "source": [
    "Okay, what's going on here?  Classific overfitting, that's what! "
   ]
  },
  {
   "cell_type": "markdown",
   "metadata": {},
   "source": [
    "Let's retrain over less epochs to prevent this."
   ]
  },
  {
   "cell_type": "code",
   "execution_count": 39,
   "metadata": {},
   "outputs": [
    {
     "name": "stdout",
     "output_type": "stream",
     "text": [
      "Epoch 1/20\n",
      "30/30 [==============================] - 1s 24ms/step - loss: 2.7320e-05 - binary_accuracy: 1.0000 - val_loss: 1.3864 - val_binary_accuracy: 0.8566\n",
      "Epoch 2/20\n",
      "30/30 [==============================] - 0s 12ms/step - loss: 2.0478e-05 - binary_accuracy: 1.0000 - val_loss: 1.4026 - val_binary_accuracy: 0.8561\n",
      "Epoch 3/20\n",
      "30/30 [==============================] - 0s 12ms/step - loss: 1.5313e-05 - binary_accuracy: 1.0000 - val_loss: 1.4539 - val_binary_accuracy: 0.8564\n",
      "Epoch 4/20\n",
      "30/30 [==============================] - 0s 12ms/step - loss: 0.0013 - binary_accuracy: 0.9995 - val_loss: 1.5084 - val_binary_accuracy: 0.8554\n",
      "Epoch 5/20\n",
      "30/30 [==============================] - 0s 12ms/step - loss: 8.9649e-06 - binary_accuracy: 1.0000 - val_loss: 1.5088 - val_binary_accuracy: 0.8570\n",
      "Epoch 6/20\n",
      "30/30 [==============================] - 0s 12ms/step - loss: 7.8590e-06 - binary_accuracy: 1.0000 - val_loss: 1.5169 - val_binary_accuracy: 0.8560\n",
      "Epoch 7/20\n",
      "30/30 [==============================] - 0s 12ms/step - loss: 6.9028e-06 - binary_accuracy: 1.0000 - val_loss: 1.5347 - val_binary_accuracy: 0.8559\n",
      "Epoch 8/20\n",
      "30/30 [==============================] - 0s 12ms/step - loss: 5.6154e-06 - binary_accuracy: 1.0000 - val_loss: 1.5762 - val_binary_accuracy: 0.8558\n",
      "Epoch 9/20\n",
      "30/30 [==============================] - 0s 12ms/step - loss: 0.0036 - binary_accuracy: 0.9991 - val_loss: 1.6100 - val_binary_accuracy: 0.8562\n",
      "Epoch 10/20\n",
      "30/30 [==============================] - 0s 12ms/step - loss: 3.3585e-06 - binary_accuracy: 1.0000 - val_loss: 1.6200 - val_binary_accuracy: 0.8565\n",
      "Epoch 11/20\n",
      "30/30 [==============================] - 0s 12ms/step - loss: 2.9375e-06 - binary_accuracy: 1.0000 - val_loss: 1.6285 - val_binary_accuracy: 0.8566\n",
      "Epoch 12/20\n",
      "30/30 [==============================] - 0s 12ms/step - loss: 2.7251e-06 - binary_accuracy: 1.0000 - val_loss: 1.6369 - val_binary_accuracy: 0.8561\n",
      "Epoch 13/20\n",
      "30/30 [==============================] - 0s 12ms/step - loss: 2.4889e-06 - binary_accuracy: 1.0000 - val_loss: 1.6537 - val_binary_accuracy: 0.8553\n",
      "Epoch 14/20\n",
      "30/30 [==============================] - 0s 12ms/step - loss: 2.1250e-06 - binary_accuracy: 1.0000 - val_loss: 1.6740 - val_binary_accuracy: 0.8558\n",
      "Epoch 15/20\n",
      "30/30 [==============================] - 0s 12ms/step - loss: 1.6519e-06 - binary_accuracy: 1.0000 - val_loss: 1.7197 - val_binary_accuracy: 0.8569\n",
      "Epoch 16/20\n",
      "30/30 [==============================] - 0s 12ms/step - loss: 0.0024 - binary_accuracy: 0.9995 - val_loss: 1.7441 - val_binary_accuracy: 0.8549\n",
      "Epoch 17/20\n",
      "30/30 [==============================] - 0s 12ms/step - loss: 1.3608e-06 - binary_accuracy: 1.0000 - val_loss: 1.7403 - val_binary_accuracy: 0.8556\n",
      "Epoch 18/20\n",
      "30/30 [==============================] - 0s 12ms/step - loss: 1.2331e-06 - binary_accuracy: 1.0000 - val_loss: 1.7420 - val_binary_accuracy: 0.8557\n",
      "Epoch 19/20\n",
      "30/30 [==============================] - 0s 12ms/step - loss: 1.1370e-06 - binary_accuracy: 1.0000 - val_loss: 1.7471 - val_binary_accuracy: 0.8561\n",
      "Epoch 20/20\n",
      "30/30 [==============================] - 0s 12ms/step - loss: 1.0198e-06 - binary_accuracy: 1.0000 - val_loss: 1.7627 - val_binary_accuracy: 0.8559\n"
     ]
    }
   ],
   "source": [
    "model.fit(partial_x_train, partial_y_train, epochs=20, batch_size=512, validation_data=(x_val, y_val));"
   ]
  },
  {
   "cell_type": "markdown",
   "metadata": {},
   "source": [
    "# Evaluation"
   ]
  },
  {
   "cell_type": "code",
   "execution_count": 41,
   "metadata": {},
   "outputs": [
    {
     "name": "stdout",
     "output_type": "stream",
     "text": [
      "782/782 [==============================] - 1s 809us/step - loss: 1.9299 - binary_accuracy: 0.8415\n"
     ]
    },
    {
     "data": {
      "text/plain": [
       "[1.9299476146697998, 0.841480016708374]"
      ]
     },
     "execution_count": 41,
     "metadata": {},
     "output_type": "execute_result"
    }
   ],
   "source": [
    "model.evaluate(x_test, y_test)"
   ]
  },
  {
   "cell_type": "markdown",
   "metadata": {},
   "source": [
    "We're still overfitting unfortunately.  Nevertheless, 84% accuracy for this approach ain't bad! "
   ]
  },
  {
   "cell_type": "markdown",
   "metadata": {},
   "source": [
    "# Predictions"
   ]
  },
  {
   "cell_type": "markdown",
   "metadata": {},
   "source": [
    "To predict on actual values, just pass in the values to `model.predict()`"
   ]
  },
  {
   "cell_type": "code",
   "execution_count": 44,
   "metadata": {},
   "outputs": [],
   "source": [
    "# Remove the semi-colon to see predictions\n",
    "model.predict(x_test);"
   ]
  },
  {
   "cell_type": "markdown",
   "metadata": {},
   "source": [
    "# Improving/Reevaluating"
   ]
  },
  {
   "cell_type": "markdown",
   "metadata": {},
   "source": [
    "What steps could we take to improve this?  There are various, but for now, let's content ourselves with the author's ideas: \n",
    "* Change the amount of hidden units \n",
    "* Use a different loss function - MSE, for instance\n",
    "* Use a different activation function - perhaps $tanh$\n"
   ]
  },
  {
   "cell_type": "code",
   "execution_count": null,
   "metadata": {},
   "outputs": [],
   "source": [
    "from IPython.core.display import HTML\n",
    "def css_styling():\n",
    "    styles = open(\"../../../static/jupyter-styles/custom.css\", \"r\").read()\n",
    "    return HTML(styles)\n",
    "css_styling()"
   ]
  }
 ],
 "metadata": {
  "hide_input": false,
  "kernelspec": {
   "display_name": "Python 3",
   "language": "python",
   "name": "python3"
  },
  "language_info": {
   "codemirror_mode": {
    "name": "ipython",
    "version": 3
   },
   "file_extension": ".py",
   "mimetype": "text/x-python",
   "name": "python",
   "nbconvert_exporter": "python",
   "pygments_lexer": "ipython3",
   "version": "3.8.3"
  },
  "toc": {
   "base_numbering": 1,
   "nav_menu": {},
   "number_sections": true,
   "sideBar": true,
   "skip_h1_title": false,
   "title_cell": "Table of Contents",
   "title_sidebar": "Contents",
   "toc_cell": false,
   "toc_position": {},
   "toc_section_display": true,
   "toc_window_display": true
  },
  "varInspector": {
   "cols": {
    "lenName": 16,
    "lenType": 16,
    "lenVar": 40
   },
   "kernels_config": {
    "python": {
     "delete_cmd_postfix": "",
     "delete_cmd_prefix": "del ",
     "library": "var_list.py",
     "varRefreshCmd": "print(var_dic_list())"
    },
    "r": {
     "delete_cmd_postfix": ") ",
     "delete_cmd_prefix": "rm(",
     "library": "var_list.r",
     "varRefreshCmd": "cat(var_dic_list()) "
    }
   },
   "types_to_exclude": [
    "module",
    "function",
    "builtin_function_or_method",
    "instance",
    "_Feature"
   ],
   "window_display": false
  }
 },
 "nbformat": 4,
 "nbformat_minor": 4
}
