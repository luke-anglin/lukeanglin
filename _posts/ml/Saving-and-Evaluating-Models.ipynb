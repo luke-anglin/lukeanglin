{
 "cells": [
  {
   "cell_type": "markdown",
   "metadata": {},
   "source": [
    "### ```joblib``` - Save Model"
   ]
  },
  {
   "cell_type": "code",
   "execution_count": 19,
   "metadata": {},
   "outputs": [
    {
     "data": {
      "text/html": [
       "<div>\n",
       "<style scoped>\n",
       "    .dataframe tbody tr th:only-of-type {\n",
       "        vertical-align: middle;\n",
       "    }\n",
       "\n",
       "    .dataframe tbody tr th {\n",
       "        vertical-align: top;\n",
       "    }\n",
       "\n",
       "    .dataframe thead th {\n",
       "        text-align: right;\n",
       "    }\n",
       "</style>\n",
       "<table border=\"1\" class=\"dataframe\">\n",
       "  <thead>\n",
       "    <tr style=\"text-align: right;\">\n",
       "      <th></th>\n",
       "      <th>Well</th>\n",
       "      <th>Por</th>\n",
       "      <th>Perm</th>\n",
       "      <th>AI</th>\n",
       "      <th>Brittle</th>\n",
       "      <th>TOC</th>\n",
       "      <th>VR</th>\n",
       "      <th>Prod</th>\n",
       "    </tr>\n",
       "  </thead>\n",
       "  <tbody>\n",
       "    <tr>\n",
       "      <th>0</th>\n",
       "      <td>1</td>\n",
       "      <td>12.08</td>\n",
       "      <td>2.92</td>\n",
       "      <td>2.80</td>\n",
       "      <td>81.40</td>\n",
       "      <td>1.16</td>\n",
       "      <td>2.31</td>\n",
       "      <td>4165.196191</td>\n",
       "    </tr>\n",
       "    <tr>\n",
       "      <th>1</th>\n",
       "      <td>2</td>\n",
       "      <td>12.38</td>\n",
       "      <td>3.53</td>\n",
       "      <td>3.22</td>\n",
       "      <td>46.17</td>\n",
       "      <td>0.89</td>\n",
       "      <td>1.88</td>\n",
       "      <td>3561.146205</td>\n",
       "    </tr>\n",
       "    <tr>\n",
       "      <th>2</th>\n",
       "      <td>3</td>\n",
       "      <td>14.02</td>\n",
       "      <td>2.59</td>\n",
       "      <td>4.01</td>\n",
       "      <td>72.80</td>\n",
       "      <td>0.89</td>\n",
       "      <td>2.72</td>\n",
       "      <td>4284.348574</td>\n",
       "    </tr>\n",
       "    <tr>\n",
       "      <th>3</th>\n",
       "      <td>4</td>\n",
       "      <td>17.67</td>\n",
       "      <td>6.75</td>\n",
       "      <td>2.63</td>\n",
       "      <td>39.81</td>\n",
       "      <td>1.08</td>\n",
       "      <td>1.88</td>\n",
       "      <td>5098.680869</td>\n",
       "    </tr>\n",
       "    <tr>\n",
       "      <th>4</th>\n",
       "      <td>5</td>\n",
       "      <td>17.52</td>\n",
       "      <td>4.57</td>\n",
       "      <td>3.18</td>\n",
       "      <td>10.94</td>\n",
       "      <td>1.51</td>\n",
       "      <td>1.90</td>\n",
       "      <td>3406.132832</td>\n",
       "    </tr>\n",
       "  </tbody>\n",
       "</table>\n",
       "</div>"
      ],
      "text/plain": [
       "   Well    Por  Perm    AI  Brittle   TOC    VR         Prod\n",
       "0     1  12.08  2.92  2.80    81.40  1.16  2.31  4165.196191\n",
       "1     2  12.38  3.53  3.22    46.17  0.89  1.88  3561.146205\n",
       "2     3  14.02  2.59  4.01    72.80  0.89  2.72  4284.348574\n",
       "3     4  17.67  6.75  2.63    39.81  1.08  1.88  5098.680869\n",
       "4     5  17.52  4.57  3.18    10.94  1.51  1.90  3406.132832"
      ]
     },
     "execution_count": 19,
     "metadata": {},
     "output_type": "execute_result"
    }
   ],
   "source": [
    "#Imports\n",
    "from sklearn.linear_model import LinearRegression\n",
    "import joblib\n",
    "import pandas as pd\n",
    "import matplotlib.pyplot as plt\n",
    "import numpy as np\n",
    "import jovian\n",
    "#Some random data from a GitHub profile\n",
    "file = 'https://aegis4048.github.io/downloads/notebooks/sample_data/unconv_MV_v5.csv'\n",
    "df = pd.read_csv(file)\n",
    "df.head()"
   ]
  },
  {
   "cell_type": "markdown",
   "metadata": {},
   "source": [
    "Let's create a dummy model to illustrate this."
   ]
  },
  {
   "cell_type": "code",
   "execution_count": 20,
   "metadata": {
    "code_folding": []
   },
   "outputs": [
    {
     "data": {
      "text/plain": [
       "array([[12.08],\n",
       "       [12.38],\n",
       "       [14.02],\n",
       "       [17.67],\n",
       "       [17.52],\n",
       "       [14.53],\n",
       "       [13.49],\n",
       "       [11.58],\n",
       "       [12.52],\n",
       "       [13.25],\n",
       "       [15.04],\n",
       "       [16.19],\n",
       "       [16.82],\n",
       "       [17.39],\n",
       "       [13.83],\n",
       "       [11.34],\n",
       "       [19.55],\n",
       "       [15.58],\n",
       "       [14.73],\n",
       "       [12.47],\n",
       "       [18.08],\n",
       "       [16.32],\n",
       "       [12.62],\n",
       "       [10.03],\n",
       "       [18.66],\n",
       "       [ 7.27],\n",
       "       [15.78],\n",
       "       [15.73],\n",
       "       [12.38],\n",
       "       [12.89],\n",
       "       [18.48],\n",
       "       [14.74],\n",
       "       [12.55],\n",
       "       [13.58],\n",
       "       [11.76],\n",
       "       [11.98],\n",
       "       [13.56],\n",
       "       [16.55],\n",
       "       [15.22],\n",
       "       [14.54],\n",
       "       [14.37],\n",
       "       [15.4 ],\n",
       "       [10.14],\n",
       "       [11.09],\n",
       "       [18.37],\n",
       "       [14.71],\n",
       "       [ 9.29],\n",
       "       [11.85],\n",
       "       [18.59],\n",
       "       [18.18],\n",
       "       [18.72],\n",
       "       [20.96],\n",
       "       [15.31],\n",
       "       [11.98],\n",
       "       [18.16],\n",
       "       [13.61],\n",
       "       [13.67],\n",
       "       [15.21],\n",
       "       [16.1 ],\n",
       "       [13.  ],\n",
       "       [18.32],\n",
       "       [14.96],\n",
       "       [18.21],\n",
       "       [15.07],\n",
       "       [17.75],\n",
       "       [15.77],\n",
       "       [14.19],\n",
       "       [13.8 ],\n",
       "       [14.84],\n",
       "       [12.54],\n",
       "       [10.13],\n",
       "       [14.17],\n",
       "       [14.85],\n",
       "       [16.62],\n",
       "       [17.85],\n",
       "       [18.73],\n",
       "       [17.2 ],\n",
       "       [10.49],\n",
       "       [13.53],\n",
       "       [18.04],\n",
       "       [14.97],\n",
       "       [16.18],\n",
       "       [15.07],\n",
       "       [13.69],\n",
       "       [10.15],\n",
       "       [13.45],\n",
       "       [15.94],\n",
       "       [14.88],\n",
       "       [11.12],\n",
       "       [13.5 ],\n",
       "       [13.72],\n",
       "       [ 7.38],\n",
       "       [20.21],\n",
       "       [10.69],\n",
       "       [15.75],\n",
       "       [17.96],\n",
       "       [16.95],\n",
       "       [19.73],\n",
       "       [11.91],\n",
       "       [15.53],\n",
       "       [14.44],\n",
       "       [13.37],\n",
       "       [10.5 ],\n",
       "       [18.9 ],\n",
       "       [17.89],\n",
       "       [15.32],\n",
       "       [13.48],\n",
       "       [17.17],\n",
       "       [20.86],\n",
       "       [15.19],\n",
       "       [14.95],\n",
       "       [12.1 ],\n",
       "       [18.24],\n",
       "       [19.86],\n",
       "       [19.54],\n",
       "       [18.37],\n",
       "       [12.89],\n",
       "       [15.2 ],\n",
       "       [12.23],\n",
       "       [17.88],\n",
       "       [15.79],\n",
       "       [12.38],\n",
       "       [18.98],\n",
       "       [13.76],\n",
       "       [23.55],\n",
       "       [14.86],\n",
       "       [16.43],\n",
       "       [15.86],\n",
       "       [12.98],\n",
       "       [17.21],\n",
       "       [15.34],\n",
       "       [17.57],\n",
       "       [10.74],\n",
       "       [18.79],\n",
       "       [12.83],\n",
       "       [15.35],\n",
       "       [14.88],\n",
       "       [14.69],\n",
       "       [ 7.77],\n",
       "       [15.87],\n",
       "       [18.75],\n",
       "       [15.63],\n",
       "       [18.06],\n",
       "       [12.05],\n",
       "       [14.44],\n",
       "       [16.69],\n",
       "       [15.8 ],\n",
       "       [16.84],\n",
       "       [13.46],\n",
       "       [14.63],\n",
       "       [12.2 ],\n",
       "       [10.5 ],\n",
       "       [18.68],\n",
       "       [16.88],\n",
       "       [15.42],\n",
       "       [13.01],\n",
       "       [17.92],\n",
       "       [15.97],\n",
       "       [13.32],\n",
       "       [18.1 ],\n",
       "       [16.21],\n",
       "       [18.  ],\n",
       "       [17.86],\n",
       "       [11.6 ],\n",
       "       [17.98],\n",
       "       [16.61],\n",
       "       [19.06],\n",
       "       [12.83],\n",
       "       [18.96],\n",
       "       [11.71],\n",
       "       [11.91],\n",
       "       [17.44],\n",
       "       [10.95],\n",
       "       [12.94],\n",
       "       [15.72],\n",
       "       [14.02],\n",
       "       [14.49],\n",
       "       [11.8 ],\n",
       "       [19.29],\n",
       "       [ 7.22],\n",
       "       [15.7 ],\n",
       "       [14.48],\n",
       "       [ 9.88],\n",
       "       [18.8 ],\n",
       "       [18.07],\n",
       "       [15.68],\n",
       "       [15.28],\n",
       "       [10.88],\n",
       "       [16.14],\n",
       "       [16.12],\n",
       "       [13.52],\n",
       "       [ 6.55],\n",
       "       [20.37],\n",
       "       [12.92],\n",
       "       [17.13],\n",
       "       [11.95],\n",
       "       [17.99],\n",
       "       [12.12],\n",
       "       [15.55],\n",
       "       [20.89]])"
      ]
     },
     "execution_count": 20,
     "metadata": {},
     "output_type": "execute_result"
    }
   ],
   "source": [
    "#For reference for the code below, this makes a column vector\n",
    "df['Por'].values.reshape(-1, 1)"
   ]
  },
  {
   "cell_type": "markdown",
   "metadata": {},
   "source": [
    "Note - credit to aegis for the following ```LinearRegression``` visualization code. Check out his github linked on the graph"
   ]
  },
  {
   "cell_type": "code",
   "execution_count": 21,
   "metadata": {
    "code_folding": []
   },
   "outputs": [
    {
     "data": {
      "image/png": "[encoded data removed]",
      "text/plain": [
       "<Figure size 800x400 with 1 Axes>"
      ]
     },
     "metadata": {},
     "output_type": "display_data"
    }
   ],
   "source": [
    "#Making the dummy linear regression called \"model\"\n",
    "X = df['Por'].values.reshape(-1,1)\n",
    "y = df['Prod'].values\n",
    "\n",
    "################################################ Train #############################################\n",
    "\n",
    "ols = LinearRegression()\n",
    "model = ols.fit(X, y)\n",
    "response = model.predict(X)\n",
    "\n",
    "############################################## Evaluate ############################################\n",
    "\n",
    "r2 = model.score(X, y)\n",
    "\n",
    "############################################## Plot ################################################\n",
    "\n",
    "plt.style.use('default')\n",
    "plt.style.use('ggplot')\n",
    "\n",
    "fig, ax = plt.subplots(figsize=(8, 4))\n",
    "\n",
    "ax.plot(X, response, color='k', label='Regression model')\n",
    "ax.scatter(X, y, edgecolor='k', facecolor='grey', alpha=0.7, label='Sample data')\n",
    "ax.set_ylabel('Gas production (Mcf/day)', fontsize=14)\n",
    "ax.set_xlabel('Porosity (%)', fontsize=14)\n",
    "ax.text(0.8, 0.1, 'aegis4048.github.io', fontsize=13, ha='center', va='center',\n",
    "         transform=ax.transAxes, color='grey', alpha=0.5)\n",
    "ax.legend(facecolor='white', fontsize=11)\n",
    "ax.set_title('$R^2= %.2f$' % r2, fontsize=18)\n",
    "\n",
    "fig.tight_layout()"
   ]
  },
  {
   "cell_type": "markdown",
   "metadata": {},
   "source": [
    "Use ```joblib.dump(value = <model_name>, filename = '<filename>')``` to save a model to a file. "
   ]
  },
  {
   "cell_type": "code",
   "execution_count": 22,
   "metadata": {},
   "outputs": [
    {
     "data": {
      "text/plain": [
       "['models/LinearRegressionTestModel.m']"
      ]
     },
     "execution_count": 22,
     "metadata": {},
     "output_type": "execute_result"
    }
   ],
   "source": [
    "joblib.dump(value = model, filename = 'models/LinearRegressionTestModel.m')"
   ]
  },
  {
   "cell_type": "markdown",
   "metadata": {},
   "source": [
    "Later, if you want to load this model, simply use ```joblib.load(filename = '<filename>')```"
   ]
  },
  {
   "cell_type": "code",
   "execution_count": 25,
   "metadata": {},
   "outputs": [
    {
     "data": {
      "application/javascript": [
       "window.require && require([\"base/js/namespace\"],function(Jupyter){Jupyter.notebook.save_checkpoint()})"
      ],
      "text/plain": [
       "<IPython.core.display.Javascript object>"
      ]
     },
     "metadata": {},
     "output_type": "display_data"
    },
    {
     "name": "stdout",
     "output_type": "stream",
     "text": [
      "[jovian] Attempting to save notebook..\n",
      "[jovian] Updating notebook \"lukeanglin/saving-and-evaluating-models\" on https://jovian.ai/\n",
      "[jovian] Uploading notebook..\n",
      "[jovian] Capturing environment..\n",
      "[jovian] Committed successfully! https://jovian.ai/lukeanglin/saving-and-evaluating-models\n"
     ]
    },
    {
     "data": {
      "text/plain": [
       "'https://jovian.ai/lukeanglin/saving-and-evaluating-models'"
      ]
     },
     "execution_count": 25,
     "metadata": {},
     "output_type": "execute_result"
    }
   ],
   "source": [
    "jovian.commit(message = \"Added joblib.load cell\")"
   ]
  },
  {
   "cell_type": "code",
   "execution_count": 23,
   "metadata": {},
   "outputs": [
    {
     "data": {
      "text/plain": [
       "LinearRegression()"
      ]
     },
     "execution_count": 23,
     "metadata": {},
     "output_type": "execute_result"
    }
   ],
   "source": [
    "#Now, let's \"lose\" our model, and get it back again.\n",
    "del model\n",
    "joblib.load(filename = 'models/LinearRegressionTestModel.m')"
   ]
  },
  {
   "cell_type": "markdown",
   "metadata": {},
   "source": [
    "### Evaluating Models"
   ]
  },
  {
   "cell_type": "markdown",
   "metadata": {},
   "source": [
    "#### RMSE"
   ]
  },
  {
   "cell_type": "markdown",
   "metadata": {},
   "source": [
    "Let's use get the **RMSE**"
   ]
  },
  {
   "cell_type": "code",
   "execution_count": 10,
   "metadata": {},
   "outputs": [
    {
     "name": "stdout",
     "output_type": "stream",
     "text": [
      "RMSE: 499.4321238305577\n"
     ]
    }
   ],
   "source": [
    "from sklearn.model_selection import train_test_split\n",
    "from sklearn.metrics import mean_squared_error\n",
    "#Construct Lin Reg\n",
    "lin_reg = LinearRegression()\n",
    "\n",
    "#Split data into train and test set\n",
    "X_train, X_test, y_train, y_test = train_test_split(X, y, test_size=0.33, random_state=42)\n",
    "\n",
    "#Fit on training set\n",
    "lin_reg.fit(X_train, y_train)\n",
    "\n",
    "#Predict on X_test\n",
    "y_pred = lin_reg.predict(X_test)\n",
    "\n",
    "#Calculate rmse\n",
    "mse = mean_squared_error(y_true = y_test, y_pred = y_pred)\n",
    "rmse = np.sqrt(mse)\n",
    "print(f\"RMSE: {rmse}\")"
   ]
  },
  {
   "cell_type": "markdown",
   "metadata": {},
   "source": [
    "#### Confidence Intervals"
   ]
  },
  {
   "cell_type": "markdown",
   "metadata": {},
   "source": [
    "Now, let's compute a **confidence interval** on this, using ```scipy```, which has a convenient ```stats``` module for this type of thing!  It's crucial to remember that this *works only on individual elements*.  Therefore we want to calculate the **squared error** of individual elements and then pass it into the ```stats.t.interval(confidence_level, sample-size - 1, MSE, SE)```"
   ]
  },
  {
   "cell_type": "markdown",
   "metadata": {},
   "source": [
    "Note that the ```sem``` function of ```scipy``` is used to calculate the standard error"
   ]
  },
  {
   "cell_type": "code",
   "execution_count": 11,
   "metadata": {},
   "outputs": [
    {
     "name": "stdout",
     "output_type": "stream",
     "text": [
      "RMSE: 499.4321238305577\n",
      "RMSE Interval: [386.8965123  590.91114509]\n"
     ]
    }
   ],
   "source": [
    "#Import the stats module\n",
    "from scipy import stats\n",
    "\n",
    "#Set confidence level (alpha)\n",
    "confidence_level = 0.95\n",
    "\n",
    "#Calculate sample-size - subtract 1 because sample, not population\n",
    "sample_size = len(y_test) - 1\n",
    "\n",
    "#In this case, we have the MSE\n",
    "\n",
    "\n",
    "#Calculate element-wise standard error\n",
    "sq_err = (y_test-y_pred)**2\n",
    "SE = stats.sem(sq_err)\n",
    "\n",
    "#Plug into T Interval, and take the square root for comparison to our RMSE\n",
    "rmse_interval = np.sqrt(stats.t.interval(confidence_level, sample_size, mse, SE))\n",
    "print(f\"RMSE: {rmse}\")\n",
    "print(f\"RMSE Interval: {rmse_interval}\")"
   ]
  },
  {
   "cell_type": "markdown",
   "metadata": {},
   "source": [
    "#### Sensitivity/Recall"
   ]
  },
  {
   "cell_type": "markdown",
   "metadata": {},
   "source": [
    "* **Sensitivity/Recall** - % of positives labeled correctly:\n",
    "$$\n",
    "\\frac{True Positives}{True Positives + False Negatives}\n",
    "$$\n",
    "\n",
    "$$\n",
    "\\frac{Correct Positives}{Actually Positive}\n",
    "$$"
   ]
  },
  {
   "cell_type": "markdown",
   "metadata": {},
   "source": [
    "#### Specificty"
   ]
  },
  {
   "cell_type": "markdown",
   "metadata": {},
   "source": [
    "* **Specificity** - % of correct identifications of negatives:\n",
    "$$\n",
    "\\frac{True Negatives}{False Positives + True Negatives}\n",
    "$$"
   ]
  },
  {
   "cell_type": "markdown",
   "metadata": {},
   "source": [
    "#### Sensitivity vs Specifity"
   ]
  },
  {
   "cell_type": "markdown",
   "metadata": {},
   "source": [
    "* Sensitivity - Higher means good at identifying positives\n",
    "* Specifity - Higher means good at identifying negatives"
   ]
  },
  {
   "cell_type": "markdown",
   "metadata": {},
   "source": [
    "#### Precision"
   ]
  },
  {
   "cell_type": "markdown",
   "metadata": {},
   "source": [
    "* **Precision** - % proportion of positives correctly identified:\n",
    "$$\n",
    "\\frac{True Positives}{False Positives + True Positives}\n",
    "$$\n",
    "\n",
    "\n",
    "$$\n",
    "\\frac{Correct Positives}{Positive Labels}\n",
    "$$\n",
    "\n",
    "\n",
    "* How often you guessed a positive, and it was positive"
   ]
  },
  {
   "cell_type": "markdown",
   "metadata": {},
   "source": [
    "As you may have guessed, there is an inverse relationship between precision and recall.  We sometimes care about precision, sometimes about recall, and sometimes about both.  ![](https://miro.medium.com/max/700/0*XEO3pwAee7tBT_D1.png)"
   ]
  },
  {
   "cell_type": "markdown",
   "metadata": {},
   "source": [
    "#### Accuracy"
   ]
  },
  {
   "cell_type": "markdown",
   "metadata": {},
   "source": [
    "One final measure - **Accuracy**\n",
    "\n",
    "$$\n",
    "\\frac{True Positives + True Negatives}{True Positives + False Positives + True Negatives + False Negatives}\n",
    "$$\n",
    "\n",
    "\n",
    "$$\n",
    "\\frac{Correct Labels}{Labeled Data}\n",
    "$$\n",
    "* Only use this one when you have a **balanced dataset**.  Otherwise, use precision or recall"
   ]
  },
  {
   "cell_type": "markdown",
   "metadata": {},
   "source": [
    "#### F1"
   ]
  },
  {
   "cell_type": "markdown",
   "metadata": {},
   "source": [
    "The best of all!  An **F1** score will only be high if recall and precision are high.  To use in sklearn."
   ]
  },
  {
   "cell_type": "code",
   "execution_count": 2,
   "metadata": {
    "code_folding": []
   },
   "outputs": [],
   "source": [
    "import pandas as pd\n",
    "import seaborn as sn\n",
    "import matplotlib.pyplot as plt\n",
    "\n",
    "data = {'y_Actual':    [1, 0, 0, 1, 0, 1, 0, 0, 1, 0, 1, 0],\n",
    "        'y_Predicted': [1, 1, 0, 1, 0, 1, 1, 0, 1, 0, 0, 0]\n",
    "        }\n",
    "df = pd.DataFrame(data, columns=['y_Actual','y_Predicted'])\n",
    "confusion_matrix = pd.crosstab(df['y_Actual'], df['y_Predicted'], rownames=['Actual'], colnames=['Predicted'])"
   ]
  },
  {
   "cell_type": "markdown",
   "metadata": {},
   "source": [
    "#### Confusion Matrices"
   ]
  },
  {
   "cell_type": "markdown",
   "metadata": {},
   "source": [
    "**Confusion Matrices** show the amount of True/False Positives/Negatives.\n",
    "* Diagonal from top left to bottom right is the correct predictions"
   ]
  },
  {
   "cell_type": "markdown",
   "metadata": {},
   "source": [
    "![](https://miro.medium.com/max/531/1*YzVnfRRWBLvtv2yNDzU98g.png)"
   ]
  },
  {
   "cell_type": "code",
   "execution_count": 3,
   "metadata": {},
   "outputs": [
    {
     "data": {
      "text/html": [
       "<div>\n",
       "<style scoped>\n",
       "    .dataframe tbody tr th:only-of-type {\n",
       "        vertical-align: middle;\n",
       "    }\n",
       "\n",
       "    .dataframe tbody tr th {\n",
       "        vertical-align: top;\n",
       "    }\n",
       "\n",
       "    .dataframe thead th {\n",
       "        text-align: right;\n",
       "    }\n",
       "</style>\n",
       "<table border=\"1\" class=\"dataframe\">\n",
       "  <thead>\n",
       "    <tr style=\"text-align: right;\">\n",
       "      <th>Predicted</th>\n",
       "      <th>0</th>\n",
       "      <th>1</th>\n",
       "    </tr>\n",
       "    <tr>\n",
       "      <th>Actual</th>\n",
       "      <th></th>\n",
       "      <th></th>\n",
       "    </tr>\n",
       "  </thead>\n",
       "  <tbody>\n",
       "    <tr>\n",
       "      <th>0</th>\n",
       "      <td>5</td>\n",
       "      <td>2</td>\n",
       "    </tr>\n",
       "    <tr>\n",
       "      <th>1</th>\n",
       "      <td>1</td>\n",
       "      <td>4</td>\n",
       "    </tr>\n",
       "  </tbody>\n",
       "</table>\n",
       "</div>"
      ],
      "text/plain": [
       "Predicted  0  1\n",
       "Actual         \n",
       "0          5  2\n",
       "1          1  4"
      ]
     },
     "execution_count": 3,
     "metadata": {},
     "output_type": "execute_result"
    }
   ],
   "source": [
    "confusion_matrix"
   ]
  },
  {
   "cell_type": "code",
   "execution_count": 12,
   "metadata": {
    "code_folding": []
   },
   "outputs": [
    {
     "data": {
      "image/png": "[encoded data removed]",
      "text/plain": [
       "<Figure size 640x480 with 2 Axes>"
      ]
     },
     "metadata": {},
     "output_type": "display_data"
    }
   ],
   "source": [
    "sn.heatmap(confusion_matrix, annot=True)\n",
    "plt.show()"
   ]
  },
  {
   "cell_type": "markdown",
   "metadata": {},
   "source": [
    "With sklearn . . . use ```confusion_matrix```, or plot a confusion matrix with the ```plot_confusion_matrix(model, X, y)``` function"
   ]
  },
  {
   "cell_type": "code",
   "execution_count": 13,
   "metadata": {},
   "outputs": [
    {
     "data": {
      "text/plain": [
       "array([[5, 2],\n",
       "       [1, 4]])"
      ]
     },
     "execution_count": 13,
     "metadata": {},
     "output_type": "execute_result"
    }
   ],
   "source": [
    "#Just making a confusion Matrix\n",
    "from sklearn.metrics import confusion_matrix, plot_confusion_matrix\n",
    "y_actual = [1, 0, 0, 1, 0, 1, 0, 0, 1, 0, 1, 0]\n",
    "y_predicted = [1, 1, 0, 1, 0, 1, 1, 0, 1, 0, 0, 0]\n",
    "confusion_matrix(y_actual, y_predicted)"
   ]
  },
  {
   "cell_type": "code",
   "execution_count": 14,
   "metadata": {},
   "outputs": [
    {
     "data": {
      "image/png": "[encoded data removed]",
      "text/plain": [
       "<Figure size 640x480 with 2 Axes>"
      ]
     },
     "metadata": {},
     "output_type": "display_data"
    }
   ],
   "source": [
    "#Plotting one\n",
    "from sklearn.datasets import make_classification\n",
    "from sklearn.metrics import plot_confusion_matrix\n",
    "from sklearn.model_selection import train_test_split\n",
    "from sklearn.svm import SVC\n",
    "X, y = make_classification(random_state=0)\n",
    "X_train, X_test, y_train, y_test = train_test_split(X, y, random_state=0)\n",
    "clf = SVC(random_state=0, probability=True)\n",
    "clf.fit(X_train, y_train)\n",
    "SVC(random_state=0)\n",
    "plot_confusion_matrix(clf, X_test, y_test)  # doctest: +SKIP\n",
    "plt.show()  # doctest: +SKIP"
   ]
  },
  {
   "cell_type": "markdown",
   "metadata": {},
   "source": [
    "#### ROC"
   ]
  },
  {
   "cell_type": "markdown",
   "metadata": {},
   "source": [
    "This brings us to confusion matrix metrics, like the ```roc_auc_score```\n",
    "![](https://scikit-learn.org/stable/_images/sphx_glr_plot_roc_thumb.png)"
   ]
  },
  {
   "cell_type": "code",
   "execution_count": 15,
   "metadata": {},
   "outputs": [
    {
     "data": {
      "text/plain": [
       "0.75"
      ]
     },
     "execution_count": 15,
     "metadata": {},
     "output_type": "execute_result"
    }
   ],
   "source": [
    "from sklearn.metrics import roc_auc_score\n",
    "y = np.array([1, 1, 2, 2])\n",
    "scores = np.array([0.1, 0.4, 0.35, 0.8])\n",
    "roc_auc_score(y, scores)"
   ]
  },
  {
   "cell_type": "markdown",
   "metadata": {},
   "source": [
    "#### More Examples"
   ]
  },
  {
   "cell_type": "markdown",
   "metadata": {},
   "source": [
    "For more on evaluating models, see [this Jupyter notebook](http://localhost:8888/notebooks/Classification%20-%20Happiness%20Score.ipynb#F1)"
   ]
  }
 ],
 "metadata": {
  "hide_input": false,
  "kernelspec": {
   "display_name": "Python 3",
   "language": "python",
   "name": "python3"
  },
  "language_info": {
   "codemirror_mode": {
    "name": "ipython",
    "version": 3
   },
   "file_extension": ".py",
   "mimetype": "text/x-python",
   "name": "python",
   "nbconvert_exporter": "python",
   "pygments_lexer": "ipython3",
   "version": "3.8.3"
  },
  "toc": {
   "base_numbering": 1,
   "nav_menu": {},
   "number_sections": true,
   "sideBar": true,
   "skip_h1_title": false,
   "title_cell": "Table of Contents",
   "title_sidebar": "Contents",
   "toc_cell": false,
   "toc_position": {
    "height": "calc(100% - 180px)",
    "left": "10px",
    "top": "150px",
    "width": "190px"
   },
   "toc_section_display": true,
   "toc_window_display": true
  },
  "varInspector": {
   "cols": {
    "lenName": 16,
    "lenType": 16,
    "lenVar": 40
   },
   "kernels_config": {
    "python": {
     "delete_cmd_postfix": "",
     "delete_cmd_prefix": "del ",
     "library": "var_list.py",
     "varRefreshCmd": "print(var_dic_list())"
    },
    "r": {
     "delete_cmd_postfix": ") ",
     "delete_cmd_prefix": "rm(",
     "library": "var_list.r",
     "varRefreshCmd": "cat(var_dic_list()) "
    }
   },
   "types_to_exclude": [
    "module",
    "function",
    "builtin_function_or_method",
    "instance",
    "_Feature"
   ],
   "window_display": false
  }
 },
 "nbformat": 4,
 "nbformat_minor": 4
}
